{
 "cells": [
  {
   "cell_type": "markdown",
   "id": "fee9bfbe-127f-45a0-8f83-1ef94a60dc5b",
   "metadata": {},
   "source": [
    "# 🟢 Öğrenci Notları Analizi (Başlangıç Seviyesi)\n",
    "\n",
    "Bu projede **başlangıç seviyesi** bir veri seti ile temel veri analizi uygulaması yapıyoruz.\n",
    "\n",
    "### Hedefler:\n",
    "- Pandas ile veri oluşturma ve okuma\n",
    "- Temel istatistiksel hesaplamalar (ortalama, medyan vs.)\n",
    "- Geçti/kaldı sınıflandırması\n",
    "- Matplotlib ve Seaborn ile basit grafik çizimi"
   ]
  },
  {
   "cell_type": "markdown",
   "id": "6aa8dcad-8e1b-4c94-b447-a3ff39b2a7c2",
   "metadata": {},
   "source": [
    "## 1) Gerekli kütüphaneleri yükle"
   ]
  },
  {
   "cell_type": "code",
   "execution_count": 1,
   "id": "9d8849a7-4457-4f28-b14b-ced0f6da65ee",
   "metadata": {},
   "outputs": [],
   "source": [
    "import pandas as pd\n",
    "import matplotlib.pyplot as plt\n",
    "import seaborn as sns"
   ]
  },
  {
   "cell_type": "markdown",
   "id": "c72a0e15-aeab-4ee3-8a61-104a835a0261",
   "metadata": {},
   "source": [
    "## 2) Veri setini oluştur"
   ]
  },
  {
   "cell_type": "code",
   "execution_count": 2,
   "id": "e0045ce8-375e-46f6-bd0b-38f1b90525a6",
   "metadata": {},
   "outputs": [],
   "source": [
    "veri = {\n",
    "    \"OgrenciID\": [1, 2, 3, 4, 5],\n",
    "    \"Ad\": [\"Ahmet\", \"Ayşe\", \"Mehmet\", \"Zeynep\", \"Ali\"],\n",
    "    \"Soyad\": [\"Yılmaz\", \"Demir\", \"Korkmaz\", \"Kaya\", \"Çelik\"],\n",
    "    \"Vize\": [65, 40, 80, 70, 55],\n",
    "    \"Final\": [75, 50, 90, 85, 60]\n",
    "}\n",
    "\n",
    "df = pd.DataFrame(veri)"
   ]
  },
  {
   "cell_type": "code",
   "execution_count": 3,
   "id": "ed25c1bb-aedc-4488-b13f-84cbdc0a33ea",
   "metadata": {},
   "outputs": [
    {
     "data": {
      "text/html": [
       "<div>\n",
       "<style scoped>\n",
       "    .dataframe tbody tr th:only-of-type {\n",
       "        vertical-align: middle;\n",
       "    }\n",
       "\n",
       "    .dataframe tbody tr th {\n",
       "        vertical-align: top;\n",
       "    }\n",
       "\n",
       "    .dataframe thead th {\n",
       "        text-align: right;\n",
       "    }\n",
       "</style>\n",
       "<table border=\"1\" class=\"dataframe\">\n",
       "  <thead>\n",
       "    <tr style=\"text-align: right;\">\n",
       "      <th></th>\n",
       "      <th>OgrenciID</th>\n",
       "      <th>Ad</th>\n",
       "      <th>Soyad</th>\n",
       "      <th>Vize</th>\n",
       "      <th>Final</th>\n",
       "    </tr>\n",
       "  </thead>\n",
       "  <tbody>\n",
       "    <tr>\n",
       "      <th>0</th>\n",
       "      <td>1</td>\n",
       "      <td>Ahmet</td>\n",
       "      <td>Yılmaz</td>\n",
       "      <td>65</td>\n",
       "      <td>75</td>\n",
       "    </tr>\n",
       "    <tr>\n",
       "      <th>1</th>\n",
       "      <td>2</td>\n",
       "      <td>Ayşe</td>\n",
       "      <td>Demir</td>\n",
       "      <td>40</td>\n",
       "      <td>50</td>\n",
       "    </tr>\n",
       "    <tr>\n",
       "      <th>2</th>\n",
       "      <td>3</td>\n",
       "      <td>Mehmet</td>\n",
       "      <td>Korkmaz</td>\n",
       "      <td>80</td>\n",
       "      <td>90</td>\n",
       "    </tr>\n",
       "    <tr>\n",
       "      <th>3</th>\n",
       "      <td>4</td>\n",
       "      <td>Zeynep</td>\n",
       "      <td>Kaya</td>\n",
       "      <td>70</td>\n",
       "      <td>85</td>\n",
       "    </tr>\n",
       "    <tr>\n",
       "      <th>4</th>\n",
       "      <td>5</td>\n",
       "      <td>Ali</td>\n",
       "      <td>Çelik</td>\n",
       "      <td>55</td>\n",
       "      <td>60</td>\n",
       "    </tr>\n",
       "  </tbody>\n",
       "</table>\n",
       "</div>"
      ],
      "text/plain": [
       "   OgrenciID      Ad    Soyad  Vize  Final\n",
       "0          1   Ahmet   Yılmaz    65     75\n",
       "1          2    Ayşe    Demir    40     50\n",
       "2          3  Mehmet  Korkmaz    80     90\n",
       "3          4  Zeynep     Kaya    70     85\n",
       "4          5     Ali    Çelik    55     60"
      ]
     },
     "execution_count": 3,
     "metadata": {},
     "output_type": "execute_result"
    }
   ],
   "source": [
    "df.head()"
   ]
  },
  {
   "cell_type": "markdown",
   "id": "4ab3acf2-6459-431e-aaeb-313e76aae763",
   "metadata": {},
   "source": [
    "## 3) Ortalama not sütunu ekle"
   ]
  },
  {
   "cell_type": "code",
   "execution_count": 4,
   "id": "d5def54c-37a4-4d72-9153-6040f3d24ee5",
   "metadata": {},
   "outputs": [],
   "source": [
    "df[\"Ortalama\"] = df[\"Vize\"] * 0.4 + df[\"Final\"] * 0.6"
   ]
  },
  {
   "cell_type": "code",
   "execution_count": 5,
   "id": "d3e2592c-dc14-4f5e-8da0-c136e35e0c38",
   "metadata": {},
   "outputs": [
    {
     "data": {
      "text/html": [
       "<div>\n",
       "<style scoped>\n",
       "    .dataframe tbody tr th:only-of-type {\n",
       "        vertical-align: middle;\n",
       "    }\n",
       "\n",
       "    .dataframe tbody tr th {\n",
       "        vertical-align: top;\n",
       "    }\n",
       "\n",
       "    .dataframe thead th {\n",
       "        text-align: right;\n",
       "    }\n",
       "</style>\n",
       "<table border=\"1\" class=\"dataframe\">\n",
       "  <thead>\n",
       "    <tr style=\"text-align: right;\">\n",
       "      <th></th>\n",
       "      <th>OgrenciID</th>\n",
       "      <th>Ad</th>\n",
       "      <th>Soyad</th>\n",
       "      <th>Vize</th>\n",
       "      <th>Final</th>\n",
       "      <th>Ortalama</th>\n",
       "    </tr>\n",
       "  </thead>\n",
       "  <tbody>\n",
       "    <tr>\n",
       "      <th>0</th>\n",
       "      <td>1</td>\n",
       "      <td>Ahmet</td>\n",
       "      <td>Yılmaz</td>\n",
       "      <td>65</td>\n",
       "      <td>75</td>\n",
       "      <td>71.0</td>\n",
       "    </tr>\n",
       "    <tr>\n",
       "      <th>1</th>\n",
       "      <td>2</td>\n",
       "      <td>Ayşe</td>\n",
       "      <td>Demir</td>\n",
       "      <td>40</td>\n",
       "      <td>50</td>\n",
       "      <td>46.0</td>\n",
       "    </tr>\n",
       "    <tr>\n",
       "      <th>2</th>\n",
       "      <td>3</td>\n",
       "      <td>Mehmet</td>\n",
       "      <td>Korkmaz</td>\n",
       "      <td>80</td>\n",
       "      <td>90</td>\n",
       "      <td>86.0</td>\n",
       "    </tr>\n",
       "    <tr>\n",
       "      <th>3</th>\n",
       "      <td>4</td>\n",
       "      <td>Zeynep</td>\n",
       "      <td>Kaya</td>\n",
       "      <td>70</td>\n",
       "      <td>85</td>\n",
       "      <td>79.0</td>\n",
       "    </tr>\n",
       "    <tr>\n",
       "      <th>4</th>\n",
       "      <td>5</td>\n",
       "      <td>Ali</td>\n",
       "      <td>Çelik</td>\n",
       "      <td>55</td>\n",
       "      <td>60</td>\n",
       "      <td>58.0</td>\n",
       "    </tr>\n",
       "  </tbody>\n",
       "</table>\n",
       "</div>"
      ],
      "text/plain": [
       "   OgrenciID      Ad    Soyad  Vize  Final  Ortalama\n",
       "0          1   Ahmet   Yılmaz    65     75      71.0\n",
       "1          2    Ayşe    Demir    40     50      46.0\n",
       "2          3  Mehmet  Korkmaz    80     90      86.0\n",
       "3          4  Zeynep     Kaya    70     85      79.0\n",
       "4          5     Ali    Çelik    55     60      58.0"
      ]
     },
     "execution_count": 5,
     "metadata": {},
     "output_type": "execute_result"
    }
   ],
   "source": [
    "df.head()"
   ]
  },
  {
   "cell_type": "markdown",
   "id": "8923ec3e-441f-4634-a78b-90c3647bc2b5",
   "metadata": {},
   "source": [
    "## 4) Başarı durumu ekle"
   ]
  },
  {
   "cell_type": "code",
   "execution_count": 6,
   "id": "df119857-34ee-46a2-b8bb-c3f77fd4143b",
   "metadata": {},
   "outputs": [],
   "source": [
    "df[\"Durum\"] = df[\"Ortalama\"].apply(lambda x: \"Geçti\" if x >= 60 else \"Kaldı\")"
   ]
  },
  {
   "cell_type": "code",
   "execution_count": 7,
   "id": "e0ba4bd9-3bbc-4a93-9e70-d5c9c3a80548",
   "metadata": {},
   "outputs": [
    {
     "data": {
      "text/html": [
       "<div>\n",
       "<style scoped>\n",
       "    .dataframe tbody tr th:only-of-type {\n",
       "        vertical-align: middle;\n",
       "    }\n",
       "\n",
       "    .dataframe tbody tr th {\n",
       "        vertical-align: top;\n",
       "    }\n",
       "\n",
       "    .dataframe thead th {\n",
       "        text-align: right;\n",
       "    }\n",
       "</style>\n",
       "<table border=\"1\" class=\"dataframe\">\n",
       "  <thead>\n",
       "    <tr style=\"text-align: right;\">\n",
       "      <th></th>\n",
       "      <th>OgrenciID</th>\n",
       "      <th>Ad</th>\n",
       "      <th>Soyad</th>\n",
       "      <th>Vize</th>\n",
       "      <th>Final</th>\n",
       "      <th>Ortalama</th>\n",
       "      <th>Durum</th>\n",
       "    </tr>\n",
       "  </thead>\n",
       "  <tbody>\n",
       "    <tr>\n",
       "      <th>0</th>\n",
       "      <td>1</td>\n",
       "      <td>Ahmet</td>\n",
       "      <td>Yılmaz</td>\n",
       "      <td>65</td>\n",
       "      <td>75</td>\n",
       "      <td>71.0</td>\n",
       "      <td>Geçti</td>\n",
       "    </tr>\n",
       "    <tr>\n",
       "      <th>1</th>\n",
       "      <td>2</td>\n",
       "      <td>Ayşe</td>\n",
       "      <td>Demir</td>\n",
       "      <td>40</td>\n",
       "      <td>50</td>\n",
       "      <td>46.0</td>\n",
       "      <td>Kaldı</td>\n",
       "    </tr>\n",
       "    <tr>\n",
       "      <th>2</th>\n",
       "      <td>3</td>\n",
       "      <td>Mehmet</td>\n",
       "      <td>Korkmaz</td>\n",
       "      <td>80</td>\n",
       "      <td>90</td>\n",
       "      <td>86.0</td>\n",
       "      <td>Geçti</td>\n",
       "    </tr>\n",
       "    <tr>\n",
       "      <th>3</th>\n",
       "      <td>4</td>\n",
       "      <td>Zeynep</td>\n",
       "      <td>Kaya</td>\n",
       "      <td>70</td>\n",
       "      <td>85</td>\n",
       "      <td>79.0</td>\n",
       "      <td>Geçti</td>\n",
       "    </tr>\n",
       "    <tr>\n",
       "      <th>4</th>\n",
       "      <td>5</td>\n",
       "      <td>Ali</td>\n",
       "      <td>Çelik</td>\n",
       "      <td>55</td>\n",
       "      <td>60</td>\n",
       "      <td>58.0</td>\n",
       "      <td>Kaldı</td>\n",
       "    </tr>\n",
       "  </tbody>\n",
       "</table>\n",
       "</div>"
      ],
      "text/plain": [
       "   OgrenciID      Ad    Soyad  Vize  Final  Ortalama  Durum\n",
       "0          1   Ahmet   Yılmaz    65     75      71.0  Geçti\n",
       "1          2    Ayşe    Demir    40     50      46.0  Kaldı\n",
       "2          3  Mehmet  Korkmaz    80     90      86.0  Geçti\n",
       "3          4  Zeynep     Kaya    70     85      79.0  Geçti\n",
       "4          5     Ali    Çelik    55     60      58.0  Kaldı"
      ]
     },
     "execution_count": 7,
     "metadata": {},
     "output_type": "execute_result"
    }
   ],
   "source": [
    "df.head()"
   ]
  },
  {
   "cell_type": "markdown",
   "id": "2a8881f3-1647-415c-9243-8d179d9a3b09",
   "metadata": {},
   "source": [
    "## 5) Temel analizler yap"
   ]
  },
  {
   "cell_type": "code",
   "execution_count": 8,
   "id": "02fe79a1-ce13-4db7-9759-43301ab09668",
   "metadata": {},
   "outputs": [
    {
     "data": {
      "text/html": [
       "<div>\n",
       "<style scoped>\n",
       "    .dataframe tbody tr th:only-of-type {\n",
       "        vertical-align: middle;\n",
       "    }\n",
       "\n",
       "    .dataframe tbody tr th {\n",
       "        vertical-align: top;\n",
       "    }\n",
       "\n",
       "    .dataframe thead th {\n",
       "        text-align: right;\n",
       "    }\n",
       "</style>\n",
       "<table border=\"1\" class=\"dataframe\">\n",
       "  <thead>\n",
       "    <tr style=\"text-align: right;\">\n",
       "      <th></th>\n",
       "      <th>OgrenciID</th>\n",
       "      <th>Vize</th>\n",
       "      <th>Final</th>\n",
       "      <th>Ortalama</th>\n",
       "    </tr>\n",
       "  </thead>\n",
       "  <tbody>\n",
       "    <tr>\n",
       "      <th>count</th>\n",
       "      <td>5.000000</td>\n",
       "      <td>5.000000</td>\n",
       "      <td>5.000000</td>\n",
       "      <td>5.000000</td>\n",
       "    </tr>\n",
       "    <tr>\n",
       "      <th>mean</th>\n",
       "      <td>3.000000</td>\n",
       "      <td>62.000000</td>\n",
       "      <td>72.000000</td>\n",
       "      <td>68.000000</td>\n",
       "    </tr>\n",
       "    <tr>\n",
       "      <th>std</th>\n",
       "      <td>1.581139</td>\n",
       "      <td>15.247951</td>\n",
       "      <td>16.807736</td>\n",
       "      <td>16.109004</td>\n",
       "    </tr>\n",
       "    <tr>\n",
       "      <th>min</th>\n",
       "      <td>1.000000</td>\n",
       "      <td>40.000000</td>\n",
       "      <td>50.000000</td>\n",
       "      <td>46.000000</td>\n",
       "    </tr>\n",
       "    <tr>\n",
       "      <th>25%</th>\n",
       "      <td>2.000000</td>\n",
       "      <td>55.000000</td>\n",
       "      <td>60.000000</td>\n",
       "      <td>58.000000</td>\n",
       "    </tr>\n",
       "    <tr>\n",
       "      <th>50%</th>\n",
       "      <td>3.000000</td>\n",
       "      <td>65.000000</td>\n",
       "      <td>75.000000</td>\n",
       "      <td>71.000000</td>\n",
       "    </tr>\n",
       "    <tr>\n",
       "      <th>75%</th>\n",
       "      <td>4.000000</td>\n",
       "      <td>70.000000</td>\n",
       "      <td>85.000000</td>\n",
       "      <td>79.000000</td>\n",
       "    </tr>\n",
       "    <tr>\n",
       "      <th>max</th>\n",
       "      <td>5.000000</td>\n",
       "      <td>80.000000</td>\n",
       "      <td>90.000000</td>\n",
       "      <td>86.000000</td>\n",
       "    </tr>\n",
       "  </tbody>\n",
       "</table>\n",
       "</div>"
      ],
      "text/plain": [
       "       OgrenciID       Vize      Final   Ortalama\n",
       "count   5.000000   5.000000   5.000000   5.000000\n",
       "mean    3.000000  62.000000  72.000000  68.000000\n",
       "std     1.581139  15.247951  16.807736  16.109004\n",
       "min     1.000000  40.000000  50.000000  46.000000\n",
       "25%     2.000000  55.000000  60.000000  58.000000\n",
       "50%     3.000000  65.000000  75.000000  71.000000\n",
       "75%     4.000000  70.000000  85.000000  79.000000\n",
       "max     5.000000  80.000000  90.000000  86.000000"
      ]
     },
     "execution_count": 8,
     "metadata": {},
     "output_type": "execute_result"
    }
   ],
   "source": [
    "df.describe()"
   ]
  },
  {
   "cell_type": "code",
   "execution_count": 9,
   "id": "7ec108ba-a5f9-479b-a614-8a0db4ea1b56",
   "metadata": {},
   "outputs": [
    {
     "data": {
      "text/plain": [
       "71.0"
      ]
     },
     "execution_count": 9,
     "metadata": {},
     "output_type": "execute_result"
    }
   ],
   "source": [
    "df[\"Ortalama\"].median() # Medyan bulma"
   ]
  },
  {
   "cell_type": "code",
   "execution_count": 10,
   "id": "3b3938b0-0faf-41f6-8e08-1d6a86408577",
   "metadata": {},
   "outputs": [
    {
     "data": {
      "text/plain": [
       "16.109003693587013"
      ]
     },
     "execution_count": 10,
     "metadata": {},
     "output_type": "execute_result"
    }
   ],
   "source": [
    "df[\"Ortalama\"].std() # Standart sapma bulma"
   ]
  },
  {
   "cell_type": "code",
   "execution_count": 11,
   "id": "5e32c198-34c5-4eb7-969d-30981b89782e",
   "metadata": {},
   "outputs": [
    {
     "data": {
      "text/plain": [
       "Durum\n",
       "Geçti    3\n",
       "Kaldı    2\n",
       "Name: count, dtype: int64"
      ]
     },
     "execution_count": 11,
     "metadata": {},
     "output_type": "execute_result"
    }
   ],
   "source": [
    "df[\"Durum\"].value_counts()"
   ]
  },
  {
   "cell_type": "markdown",
   "id": "bd044afe-7904-4678-a2bc-c7092b9711ef",
   "metadata": {},
   "source": [
    "## 6) Görselleştirme"
   ]
  },
  {
   "cell_type": "code",
   "execution_count": 12,
   "id": "6b9b9daf-8b01-4b91-b31f-56fca7b63a9b",
   "metadata": {},
   "outputs": [
    {
     "data": {
      "image/png": "[encoded data removed]",
      "text/plain": [
       "<Figure size 640x480 with 1 Axes>"
      ]
     },
     "metadata": {},
     "output_type": "display_data"
    }
   ],
   "source": [
    "plt.hist(df[\"Ortalama\"], bins=5)\n",
    "plt.title(\"Öğrenci Ortalama Not Dağılımı\")\n",
    "plt.xlabel(\"Not\")\n",
    "plt.ylabel(\"Öğrenci Sayısı\")\n",
    "plt.show()"
   ]
  },
  {
   "cell_type": "code",
   "execution_count": 13,
   "id": "a9301374-8d29-4985-bc96-bd7f5d749d2c",
   "metadata": {},
   "outputs": [
    {
     "data": {
      "image/png": "[encoded data removed]",
      "text/plain": [
       "<Figure size 640x480 with 1 Axes>"
      ]
     },
     "metadata": {},
     "output_type": "display_data"
    }
   ],
   "source": [
    "sns.countplot(x=\"Durum\", data=df)\n",
    "plt.title(\"Geçen / Kalan Öğrenci Sayısı\")\n",
    "plt.show()"
   ]
  },
  {
   "cell_type": "code",
   "execution_count": null,
   "id": "4dfa7d71-089a-4115-a6f3-622b213f0af9",
   "metadata": {},
   "outputs": [],
   "source": []
  }
 ],
 "metadata": {
  "kernelspec": {
   "display_name": "Python 3 (ipykernel)",
   "language": "python",
   "name": "python3"
  },
  "language_info": {
   "codemirror_mode": {
    "name": "ipython",
    "version": 3
   },
   "file_extension": ".py",
   "mimetype": "text/x-python",
   "name": "python",
   "nbconvert_exporter": "python",
   "pygments_lexer": "ipython3",
   "version": "3.12.7"
  }
 },
 "nbformat": 4,
 "nbformat_minor": 5
}
